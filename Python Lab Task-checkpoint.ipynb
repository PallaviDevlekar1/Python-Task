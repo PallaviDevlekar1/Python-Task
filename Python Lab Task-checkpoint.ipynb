{
 "cells": [
  {
   "cell_type": "code",
   "execution_count": 1,
   "id": "78d8bcd9",
   "metadata": {},
   "outputs": [
    {
     "name": "stdout",
     "output_type": "stream",
     "text": [
      "enter first number4\n",
      "enter second number2\n",
      "the square of num1: 8.0\n",
      "the square of num2: 4.0\n"
     ]
    }
   ],
   "source": [
    "# Q1. with a program in Python to accept two number from the\n",
    "user and calculate their square.\n",
    "\n",
    "num1= float(input(\"enter first number\"))\n",
    "num2= float(input(\"enter second number\"))\n",
    "\n",
    "square1 = num1 * 2\n",
    "square2 = num2 * 2\n",
    "\n",
    "print(f\"the square of num1:\", square1)\n",
    "print(f\"the square of num2:\", square2)"
   ]
  },
  {
   "cell_type": "code",
   "execution_count": 8,
   "id": "a0ac7092",
   "metadata": {},
   "outputs": [
    {
     "name": "stdout",
     "output_type": "stream",
     "text": [
      "Enter the number: 90\n",
      "The number is: Even\n"
     ]
    }
   ],
   "source": [
    "# Q2. create a program to check if a number is even or odd.\n",
    "# where a program in Python to accept a number from the user and using ternary operator check whether the number is even or odd. \n",
    "\n",
    "num = int(input(\"Enter the number: \"))\n",
    "\n",
    "result= \"Even\" if num %2==0 else \"Odd\"\n",
    "\n",
    "print(f\"The number is:\" , result)"
   ]
  },
  {
   "cell_type": "code",
   "execution_count": null,
   "id": "c22740bd",
   "metadata": {},
   "outputs": [],
   "source": []
  }
 ],
 "metadata": {
  "kernelspec": {
   "display_name": "Python 3 (ipykernel)",
   "language": "python",
   "name": "python3"
  },
  "language_info": {
   "codemirror_mode": {
    "name": "ipython",
    "version": 3
   },
   "file_extension": ".py",
   "mimetype": "text/x-python",
   "name": "python",
   "nbconvert_exporter": "python",
   "pygments_lexer": "ipython3",
   "version": "3.10.9"
  }
 },
 "nbformat": 4,
 "nbformat_minor": 5
}
